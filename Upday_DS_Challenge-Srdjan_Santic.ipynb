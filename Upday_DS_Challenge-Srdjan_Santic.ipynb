{
 "cells": [
  {
   "cell_type": "markdown",
   "metadata": {},
   "source": [
    "# Assignment Task for Data Scientists #"
   ]
  },
  {
   "cell_type": "markdown",
   "metadata": {},
   "source": [
    "## Introduction ##"
   ]
  },
  {
   "cell_type": "markdown",
   "metadata": {},
   "source": [
    "You are a Data Scientist working at upday, a news aggregator and recommender.\n",
    "\n",
    "The engineering team at upday is gathering on a regular basis articles from all the Web. In order to provide a proper filtering functionality in the app, the articles need to be categorized.\n",
    "\n",
    "You have at your disposal a pre-labelled dataset that maps different articles and their metadata to a specific category.\n",
    "\n",
    "It's up to you now to help the company providing a solution for automatically categorizing articles."
   ]
  },
  {
   "cell_type": "markdown",
   "metadata": {},
   "source": [
    "## Assignment ##"
   ]
  },
  {
   "cell_type": "markdown",
   "metadata": {},
   "source": [
    "The repository contains a dataset with some english articles and some information about them:\n",
    "\n",
    "* category\n",
    "* title\n",
    "* text\n",
    "* url\n",
    "\n",
    "The purpose of the task is to provide a classification model for the articles."
   ]
  },
  {
   "cell_type": "markdown",
   "metadata": {},
   "source": [
    "## Instructions ##"
   ]
  },
  {
   "cell_type": "markdown",
   "metadata": {},
   "source": [
    "You should make a pull request to this repository containing the solution. If you need to clarify any point of your solution, please include an explanation in the PR description.\n",
    "\n",
    "What we expect:\n",
    "\n",
    "* Explanation about the solution you adopted and the results from your data exploration\n",
    "* Documentation of the results of your model, including the metrics adopted and the final evaluation\n",
    "* The training and evaluation code\n",
    "\n",
    "The solution should just perform better than random, also we expect you to use model that is not just rules-based.\n",
    "\n",
    "How to present the documentation and the code is up to you, whether to provide one or more jupyter notebooks or via a different mean."
   ]
  },
  {
   "cell_type": "markdown",
   "metadata": {},
   "source": [
    "## Bonus ##"
   ]
  },
  {
   "cell_type": "markdown",
   "metadata": {},
   "source": [
    "Scripts to be run from the command line:\n",
    "\n",
    "* A script for training the dataset\n",
    "* A script for evaluating the dataset\n",
    "* A script to infer the category given an article"
   ]
  },
  {
   "cell_type": "markdown",
   "metadata": {},
   "source": [
    "<br>\n",
    "<br>\n",
    "<br>\n",
    "<br>\n",
    "<br>"
   ]
  },
  {
   "cell_type": "markdown",
   "metadata": {},
   "source": [
    "## Let's begin! ##"
   ]
  },
  {
   "cell_type": "markdown",
   "metadata": {},
   "source": [
    "### Imports ###"
   ]
  },
  {
   "cell_type": "code",
   "execution_count": 1,
   "metadata": {},
   "outputs": [],
   "source": [
    "import re\n",
    "import spacy\n",
    "import unicodedata\n",
    "import pandas as pd\n",
    "import numpy as np\n",
    "import tensorflow as tf\n",
    "from contractions import CONTRACTION_MAP\n",
    "from sklearn.feature_extraction.text import TfidfVectorizer\n",
    "from sklearn.preprocessing import MultiLabelBinarizer\n",
    "from sklearn.model_selection import train_test_split\n",
    "from sklearn.metrics import accuracy_score, balanced_accuracy_score, precision_score, recall_score, f1_score, classification_report\n",
    "from sklearn.ensemble import RandomForestClassifier\n",
    "from nltk.corpus import stopwords\n",
    "from nltk.tokenize.toktok import ToktokTokenizer\n",
    "from tensorflow.keras import models, layers, optimizers, losses, metrics\n",
    "from tensorflow.keras.models import Sequential\n",
    "from tensorflow.keras.layers import Dense\n",
    "from matplotlib import pyplot as plt"
   ]
  },
  {
   "cell_type": "markdown",
   "metadata": {},
   "source": [
    "### Prepare the Functionality of the NLP Libraries ###"
   ]
  },
  {
   "cell_type": "code",
   "execution_count": 2,
   "metadata": {},
   "outputs": [],
   "source": [
    "nlp = spacy.load('en', parse=True, tag=True, entity=True)\n",
    "tokenizer = ToktokTokenizer()\n",
    "stopword_list = stopwords.words('english')\n",
    "stopword_list.remove('no')\n",
    "stopword_list.remove('not')"
   ]
  },
  {
   "cell_type": "markdown",
   "metadata": {},
   "source": [
    "<br>\n",
    "<br>\n",
    "First, we load the dataset:"
   ]
  },
  {
   "cell_type": "code",
   "execution_count": 3,
   "metadata": {},
   "outputs": [],
   "source": [
    "df = pd.read_csv(\"C:/Upday-Homework/data_redacted.tsv\", sep=\"\\t\")"
   ]
  },
  {
   "cell_type": "markdown",
   "metadata": {},
   "source": [
    "<br>\n",
    "<br>\n",
    "Let's inspect the first few rows of the data frame:"
   ]
  },
  {
   "cell_type": "code",
   "execution_count": 4,
   "metadata": {},
   "outputs": [
    {
     "data": {
      "text/html": [
       "<div>\n",
       "<style scoped>\n",
       "    .dataframe tbody tr th:only-of-type {\n",
       "        vertical-align: middle;\n",
       "    }\n",
       "\n",
       "    .dataframe tbody tr th {\n",
       "        vertical-align: top;\n",
       "    }\n",
       "\n",
       "    .dataframe thead th {\n",
       "        text-align: right;\n",
       "    }\n",
       "</style>\n",
       "<table border=\"1\" class=\"dataframe\">\n",
       "  <thead>\n",
       "    <tr style=\"text-align: right;\">\n",
       "      <th></th>\n",
       "      <th>title</th>\n",
       "      <th>text</th>\n",
       "      <th>url</th>\n",
       "      <th>category</th>\n",
       "    </tr>\n",
       "  </thead>\n",
       "  <tbody>\n",
       "    <tr>\n",
       "      <th>0</th>\n",
       "      <td>Don\"t Mourn the Y Chromosome</td>\n",
       "      <td>The human Y chromosome may vanish one day, but...</td>\n",
       "      <td>http://discovermagazine.com/2014/nov/13-y-not</td>\n",
       "      <td>technology_science</td>\n",
       "    </tr>\n",
       "    <tr>\n",
       "      <th>1</th>\n",
       "      <td>Destiny: Bungie to introduce ammo pack micro-t...</td>\n",
       "      <td>Bungie is putting together plans to start sell...</td>\n",
       "      <td>http://www.ibtimes.co.uk/destiny-bungie-introd...</td>\n",
       "      <td>digital_life</td>\n",
       "    </tr>\n",
       "    <tr>\n",
       "      <th>2</th>\n",
       "      <td>Daruvala to race for Josef Kaufmann Racing in ...</td>\n",
       "      <td>Highly rated Jehan Daruvala will race for Jose...</td>\n",
       "      <td>http://www.thecheckeredflag.co.uk/2015/12/daru...</td>\n",
       "      <td>sports</td>\n",
       "    </tr>\n",
       "    <tr>\n",
       "      <th>3</th>\n",
       "      <td>Secondary tropical forests absorb carbon at hi...</td>\n",
       "      <td>Forests are an important carbon sink. While mo...</td>\n",
       "      <td>http://www.sciencedaily.com/releases/2016/02/1...</td>\n",
       "      <td>technology_science</td>\n",
       "    </tr>\n",
       "    <tr>\n",
       "      <th>4</th>\n",
       "      <td>This Brow Hack Will Change the Way You Fill In...</td>\n",
       "      <td>Before everyone was trying to get eyebrows on ...</td>\n",
       "      <td>http://www.popsugar.com/beauty/How-Use-Brow-Ge...</td>\n",
       "      <td>fashion_beauty_lifestyle</td>\n",
       "    </tr>\n",
       "  </tbody>\n",
       "</table>\n",
       "</div>"
      ],
      "text/plain": [
       "                                               title  \\\n",
       "0                       Don\"t Mourn the Y Chromosome   \n",
       "1  Destiny: Bungie to introduce ammo pack micro-t...   \n",
       "2  Daruvala to race for Josef Kaufmann Racing in ...   \n",
       "3  Secondary tropical forests absorb carbon at hi...   \n",
       "4  This Brow Hack Will Change the Way You Fill In...   \n",
       "\n",
       "                                                text  \\\n",
       "0  The human Y chromosome may vanish one day, but...   \n",
       "1  Bungie is putting together plans to start sell...   \n",
       "2  Highly rated Jehan Daruvala will race for Jose...   \n",
       "3  Forests are an important carbon sink. While mo...   \n",
       "4  Before everyone was trying to get eyebrows on ...   \n",
       "\n",
       "                                                 url                  category  \n",
       "0      http://discovermagazine.com/2014/nov/13-y-not        technology_science  \n",
       "1  http://www.ibtimes.co.uk/destiny-bungie-introd...              digital_life  \n",
       "2  http://www.thecheckeredflag.co.uk/2015/12/daru...                    sports  \n",
       "3  http://www.sciencedaily.com/releases/2016/02/1...        technology_science  \n",
       "4  http://www.popsugar.com/beauty/How-Use-Brow-Ge...  fashion_beauty_lifestyle  "
      ]
     },
     "execution_count": 4,
     "metadata": {},
     "output_type": "execute_result"
    }
   ],
   "source": [
    "df.head()"
   ]
  },
  {
   "cell_type": "markdown",
   "metadata": {},
   "source": [
    "<br>\n",
    "<br>\n",
    "First thing's first - let's take a look at the distribution of the categories:"
   ]
  },
  {
   "cell_type": "code",
   "execution_count": 5,
   "metadata": {},
   "outputs": [
    {
     "data": {
      "text/plain": [
       "fashion_beauty_lifestyle    1398\n",
       "sports                      1165\n",
       "technology_science          1040\n",
       "digital_life                 738\n",
       "money_business               733\n",
       "news                         646\n",
       "music                        568\n",
       "culture                      547\n",
       "travel                       544\n",
       "cars_motors                  470\n",
       "politics                     430\n",
       "people_shows                 367\n",
       "Name: category, dtype: int64"
      ]
     },
     "execution_count": 5,
     "metadata": {},
     "output_type": "execute_result"
    }
   ],
   "source": [
    "df['category'].value_counts()"
   ]
  },
  {
   "cell_type": "markdown",
   "metadata": {},
   "source": [
    "<br>\n",
    "<br>\n",
    "We can also plot these, as percentages, to get a better view of the overall distribution:"
   ]
  },
  {
   "cell_type": "code",
   "execution_count": 6,
   "metadata": {},
   "outputs": [
    {
     "data": {
      "text/plain": [
       "<matplotlib.axes._subplots.AxesSubplot at 0x278a8ba6208>"
      ]
     },
     "execution_count": 6,
     "metadata": {},
     "output_type": "execute_result"
    },
    {
     "data": {
      "image/png": "[encoded data removed]",
      "text/plain": [
       "<Figure size 432x288 with 1 Axes>"
      ]
     },
     "metadata": {
      "needs_background": "light"
     },
     "output_type": "display_data"
    }
   ],
   "source": [
    "df['category'].value_counts(normalize=True).plot(kind='barh')"
   ]
  },
  {
   "cell_type": "markdown",
   "metadata": {},
   "source": [
    "<br>\n",
    "<br>\n",
    "We've got 12 categories in total. Fashine, sports and technology seem to be the most common ones. A very important note here, for the ML modeling later - we'll need to make sure we stratify on the \"category\" column when we perform a train/test split, in order to preserve the distribution in the training and testing set as much as possible."
   ]
  },
  {
   "cell_type": "markdown",
   "metadata": {},
   "source": [
    "<br>\n",
    "<br>"
   ]
  },
  {
   "cell_type": "markdown",
   "metadata": {},
   "source": [
    "## Text Pre-Processing ##"
   ]
  },
  {
   "cell_type": "markdown",
   "metadata": {},
   "source": [
    "What we have right now is raw text of the articles. But we can't just use it as-is. We need to preprocess it, clean it, and then engineer features based on it.\n",
    "\n",
    "There are a number of text pre-processing tasks that can be done:\n",
    "\n",
    "\n",
    "* **Cleaning Text**\n",
    "* **Tokenizing Text**\n",
    "* **Removing Special Characters**\n",
    "* **Expanding Contractions**\n",
    "* **Case Conversions**\n",
    "* **Removing Stopwords**\n",
    "* **Correcting Words**\n",
    "* **Stemming**\n",
    "* **Lemmatization**\n",
    "\n",
    "On top of these processing and cleaning tasks, we'll perform feature engineering later.\n",
    "<br>\n",
    "<br>"
   ]
  },
  {
   "cell_type": "markdown",
   "metadata": {},
   "source": [
    "### Removing Accented Characters ###"
   ]
  },
  {
   "cell_type": "markdown",
   "metadata": {},
   "source": [
    "Usually in any text corpus, you might be dealing with accented characters/letters, especially if you only want to analyze the English language. Hence, we need to make sure that these characters are converted and standardized into ASCII characters. A simple example — converting é to e."
   ]
  },
  {
   "cell_type": "code",
   "execution_count": 7,
   "metadata": {},
   "outputs": [],
   "source": [
    "def remove_accented_chars(text):\n",
    "    text = unicodedata.normalize('NFKD', text).encode('ascii', 'ignore').decode('utf-8', 'ignore')\n",
    "    return text"
   ]
  },
  {
   "cell_type": "markdown",
   "metadata": {},
   "source": [
    "<br>\n",
    "<br>"
   ]
  },
  {
   "cell_type": "markdown",
   "metadata": {},
   "source": [
    "### Expanding Contractions ###\n",
    "\n"
   ]
  },
  {
   "cell_type": "markdown",
   "metadata": {},
   "source": [
    "Contractions are shortened version of words or syllables. They exist in either written or spoken forms. Shortened versions of existing words are created by removing specific letters and sounds. In case of English contractions, they are often created by removing one of the vowels from the word. An exemple of an expanded contraction would be the conversion of \"should've\" into should have.\n",
    "\n",
    "By nature, contractions do pose a problem for NLP and text analytics because, to start with, we have a special apostrophe character in the word. Ideally, we can have a proper mapping for contractions and their corresponding expansions and then use it to expand all the contractions in our text.\n",
    "\n",
    "The Python libaries we'll be using in this project don't have native support for contractions. Instead, we rely on a list of contractions provided by Dipanjan Sarkar on his [GitHub](https://github.com/dipanjanS/practical-machine-learning-with-python/blob/master/bonus%20content/nlp%20proven%20approach/contractions.py). We've also included the **contractions.py** file together with this project."
   ]
  },
  {
   "cell_type": "code",
   "execution_count": 8,
   "metadata": {},
   "outputs": [],
   "source": [
    "def expand_contractions(text):\n",
    "    \n",
    "    contractions_pattern = re.compile('({})'.format('|'.join(CONTRACTION_MAP.keys())),flags=re.IGNORECASE|re.DOTALL)\n",
    "    \n",
    "    def expand_match(contraction):\n",
    "        match = contraction.group(0)\n",
    "        first_char = match[0]\n",
    "        expanded_contraction = CONTRACTION_MAP.get(match)\\\n",
    "                        if CONTRACTION_MAP.get(match)\\\n",
    "                        else CONTRACTION_MAP.get(match.lower())\n",
    "        expanded_contraction = first_char + expanded_contraction[1:]\n",
    "        return expanded_contraction\n",
    "    \n",
    "    expanded_text = contractions_pattern.sub(expand_match, text)\n",
    "    expanded_text = re.sub(\"'\", \"\", expanded_text)\n",
    "    \n",
    "    return expanded_text"
   ]
  },
  {
   "cell_type": "markdown",
   "metadata": {},
   "source": [
    "<br>\n",
    "<br>"
   ]
  },
  {
   "cell_type": "markdown",
   "metadata": {},
   "source": [
    "### Removing Special Characters ###"
   ]
  },
  {
   "cell_type": "markdown",
   "metadata": {},
   "source": [
    "One important task in text normalization involves removing unnecessary and special characters. These may be special symbols or even punctuation that occurs in sentences. This step is often performed before or after tokenization. The main reason for doing so is because often punctuation or special characters do not have much significance when we analyze the text and utilize it for extracting features or information based on NLP and ML. We'also remove digits by default."
   ]
  },
  {
   "cell_type": "code",
   "execution_count": 9,
   "metadata": {},
   "outputs": [],
   "source": [
    "def remove_special_characters(text, remove_digits=True):\n",
    "    text.strip()\n",
    "    pattern = r'[^a-zA-z0-9\\s]' if not remove_digits else r'[^a-zA-z\\s]'\n",
    "    text = re.sub(pattern, '', text)\n",
    "    return text"
   ]
  },
  {
   "cell_type": "markdown",
   "metadata": {},
   "source": [
    "<br>\n",
    "<br>"
   ]
  },
  {
   "cell_type": "markdown",
   "metadata": {},
   "source": [
    "### Removing Stopwords ###"
   ]
  },
  {
   "cell_type": "markdown",
   "metadata": {},
   "source": [
    "_Stopwords_ are words that have little or no significance. They are usually removed from text during processing so as to retain words having maximum significance and context. Stopwords are usually words that end up occurring the most if you aggregated any corpus of text based on singular tokens and checked their frequencies. Words like \"a\", \"the\", \"me\", and so on are stopwords."
   ]
  },
  {
   "cell_type": "code",
   "execution_count": 10,
   "metadata": {},
   "outputs": [],
   "source": [
    "def remove_stopwords(text, is_lower_case=False):\n",
    "    tokens = tokenizer.tokenize(text)\n",
    "    tokens = [token.strip() for token in tokens]\n",
    "    \n",
    "    if is_lower_case:\n",
    "        filtered_tokens = [token for token in tokens if token not in stopword_list]\n",
    "    else:\n",
    "        filtered_tokens = [token for token in tokens if token.lower() not in stopword_list]\n",
    "        \n",
    "    filtered_text = ' '.join(filtered_tokens)    \n",
    "    return filtered_text"
   ]
  },
  {
   "cell_type": "markdown",
   "metadata": {},
   "source": [
    "<br>\n",
    "<br>"
   ]
  },
  {
   "cell_type": "markdown",
   "metadata": {},
   "source": [
    "### Lemmatization ###"
   ]
  },
  {
   "cell_type": "markdown",
   "metadata": {},
   "source": [
    "There is often debate whether one should use Stemming or Lemmatization, in order to remove word affixes, such as tenses. In the case of Stemming, the base of the work is known as the root stem. In the case of lemmatization, it is known as the root _word_. The difference is subtly, yet important - the difference being that the root word is always a lexicographically correct word (present in the dictionary), but the root stem may not be so. Thus, root word, also known as the lemma, will always be present in the dictionary. Both `nltk` and `spacy` have excellent lemmatizers. We will be using `spacy` here."
   ]
  },
  {
   "cell_type": "code",
   "execution_count": 11,
   "metadata": {},
   "outputs": [],
   "source": [
    "def lemmatize_text(text):\n",
    "    text = nlp(text)\n",
    "    text = ' '.join([word.lemma_ if word.lemma_ != '-PRON-' else word.text for word in text])\n",
    "    return text"
   ]
  },
  {
   "cell_type": "markdown",
   "metadata": {},
   "source": [
    "<br>\n",
    "<br>"
   ]
  },
  {
   "cell_type": "markdown",
   "metadata": {},
   "source": [
    "### Let's Bring It All Together! ###"
   ]
  },
  {
   "cell_type": "markdown",
   "metadata": {},
   "source": [
    "In the next step, we'll build a Text Normalizer, that processes the text using all of the above text processing steps. Note how we also have a step of lowering the case of the text:"
   ]
  },
  {
   "cell_type": "code",
   "execution_count": 12,
   "metadata": {},
   "outputs": [],
   "source": [
    "def normalize_corpus(corpus, contraction_expansion=True,\n",
    "                     accented_char_removal=True, stopword_removal=True, text_lower_case=True, \n",
    "                     text_lemmatization=True, special_char_removal=True, \n",
    "                     remove_digits=True):\n",
    "    \n",
    "    normalized_corpus = []\n",
    "    # Normalize each document in the corpus\n",
    "    for doc in corpus:       \n",
    "        \n",
    "        # Remove accented characters\n",
    "        if accented_char_removal:\n",
    "            doc = remove_accented_chars(doc)\n",
    "        \n",
    "        # Expand contractions    \n",
    "        if contraction_expansion:\n",
    "            doc = expand_contractions(doc)\n",
    "        \n",
    "        # Lowercase the text    \n",
    "        if text_lower_case:\n",
    "            doc = doc.lower()\n",
    "        \n",
    "        # Remove extra newlines\n",
    "        doc = re.sub(r'[\\r|\\n|\\r\\n]+', ' ',doc)\n",
    "        \n",
    "        # Lemmatize text\n",
    "        if text_lemmatization:\n",
    "            doc = lemmatize_text(doc)\n",
    "        \n",
    "        # Remove special characters and/or digits    \n",
    "        if special_char_removal:\n",
    "            # insert spaces between special characters to isolate them    \n",
    "            special_char_pattern = re.compile(r'([{.(-)!}])')\n",
    "            doc = special_char_pattern.sub(\" \\\\1 \", doc)\n",
    "            doc = remove_special_characters(doc, remove_digits=remove_digits)  \n",
    "        \n",
    "        # Remove extra whitespace\n",
    "        doc = re.sub(' +', ' ', doc)\n",
    "        \n",
    "        # Remove stopwords\n",
    "        if stopword_removal:\n",
    "            doc = remove_stopwords(doc, is_lower_case=text_lower_case)\n",
    "            \n",
    "        normalized_corpus.append(doc)\n",
    "        \n",
    "    return normalized_corpus"
   ]
  },
  {
   "cell_type": "markdown",
   "metadata": {},
   "source": [
    "<br>\n",
    "<br>\n",
    "Let’s now put this function in action! We will first combine the news headline and the news article text together to form a document for each piece of news. Then, we will pre-process them."
   ]
  },
  {
   "cell_type": "code",
   "execution_count": 13,
   "metadata": {},
   "outputs": [
    {
     "data": {
      "text/plain": [
       "{'full_text': 'Bungie is putting together plans to start selling ammo packs for real world money in its hit online shooter Destiny, according to a new report. It is said that ammo packs will be sold for Silver – the in-game currency bought with real world money. VG247\"s report states: \"Bungie is to sell Destiny ammo packs for real money, a source familiar with the matter has confirmed to VG247. Micro-transactions were introduced to Destiny in October 2015, with players able to buy Silver to spend on emotes and items for a player\"s Sparrow vehicle. If ammo packs were to be sold, it would mark the first time items that directly affect gameplay will have been sold – setting Bungie and Destiny down a path many fans would not be happy about. It would mean players are able to stock up on ammo easily (for a price) when they tackle co-op Raids, where heavy ammo is especially useful. Buying such ammo wouldn\"t affect the player vs player aspect of Destiny however. There\"s no information yet regarding how much ammo packs – which come in three varieties for each of the game\"s three weapon slots – might cost. Currently players are able to find ammo that is dropped by downed enemies, or through buying ammo with glimmer – Destiny\"s free in-game currency. If Bungie do start selling ammo packs for real money, it\"ll be interesting to see if there is any change to the frequency of heavy ammo drops in particular. Since the game was first released in 2014, the spectre of micro-transactions has loomed over the franchise. With no expansion packs planned for release in 2016 , with the October introduction of micro-payments it appears that Bungie and publisher Activision have decided how they will keep making money during the sci-fi shooter\"s second year. The current state of Destiny is in some flux at the moment, a point illustrated by a Kotaku feature published last week (22 Jan) which also stated that the unannounced fully-fledged Destiny sequel had been delayed beyond its planned September 2016 release window .. Destiny: Bungie to introduce ammo pack micro-transactions says game industry source',\n",
       " 'clean_text': 'bungie put together plan start sell ammo pack real world money hit online shooter destiny accord new report say ammo pack sell silver game currency buy real world money vgs report state bungie sell destiny ammo pack real money source familiar matter confirm vg micro transaction introduce destiny october player able buy silver spend emote item players sparrow vehicle ammo pack sell would mark first time item directly affect gameplay sell set bungie destiny path many fan would not happy would mean player able stock ammo easily price tackle co op raid heavy ammo especially useful buy ammo wouldnt affect player vs player aspect destiny however theres no information yet regard much ammo pack come three variety games three weapon slot may cost currently player able find ammo drop enemy buy ammo glimmer destinys free game currency bungie start sell ammo pack real money itll interesting see change frequency heavy ammo drop particular since game first release spectre micro transaction loom franchise no expansion pack plan release october introduction micro payment appear bungie publisher activision decide keep make money sci fi shooters second year current state destiny flux moment point illustrate kotaku feature publish last week jan also state unannounced fully fledge destiny sequel delay beyond plan september release window destiny bungie introduce ammo pack micro transaction say game industry source'}"
      ]
     },
     "execution_count": 13,
     "metadata": {},
     "output_type": "execute_result"
    }
   ],
   "source": [
    "# Combine the title and the article text\n",
    "df['full_text'] = df['text'].map(str) + '. ' + df['title']\n",
    "\n",
    "# Pre-process text and store the same in a new column called \"clean text\"\n",
    "df['clean_text'] = normalize_corpus(df['full_text'])\n",
    "norm_corpus = list(df['clean_text'])\n",
    "\n",
    "# Show a sample news article\n",
    "df.iloc[1][['full_text', 'clean_text']].to_dict()"
   ]
  },
  {
   "cell_type": "markdown",
   "metadata": {},
   "source": [
    "<br>\n",
    "<br>"
   ]
  },
  {
   "cell_type": "markdown",
   "metadata": {},
   "source": [
    "## Feature Engineering ##"
   ]
  },
  {
   "cell_type": "markdown",
   "metadata": {},
   "source": [
    "We've just finished a very important step - preprocessing our data, and cleaning it from various pathologies. But, this isn't enough. We're still working with raw text. We have to carefully construct our features. We could go with a Bag Of Words model, which calculates the frequencies of the words in each text. But can we do better? Enter TF-IDF."
   ]
  },
  {
   "cell_type": "markdown",
   "metadata": {},
   "source": [
    "### TF-IDF Features ###"
   ]
  },
  {
   "cell_type": "markdown",
   "metadata": {},
   "source": [
    "Using the `scikit-learn` Python module, the `TfidfVectorizer` submodule in the submodule `feature_extraction.text` provides functionality for performing TF-IDF (Term Frequency - Inverse Document Frequency) on a set of documents. This feature engineering step can greatly improve the accuracy of a classiffier, as it takes into account the frequency of the word in the entire corpus, not just in the one article. The use of the built-in `scikit-learn` TF-IDF is based on the assumption that their TF-IDF calculator is far more sophisticated than any TF-IDF weight generator that can be manually coded. The purpose of generating this dataset is to observe the differences between a naive TF-IDF weighting and a far more complex iteration. The weighting and calculations are all left to the `scikit-learn` module."
   ]
  },
  {
   "cell_type": "code",
   "execution_count": 14,
   "metadata": {},
   "outputs": [
    {
     "data": {
      "text/html": [
       "<div>\n",
       "<style scoped>\n",
       "    .dataframe tbody tr th:only-of-type {\n",
       "        vertical-align: middle;\n",
       "    }\n",
       "\n",
       "    .dataframe tbody tr th {\n",
       "        vertical-align: top;\n",
       "    }\n",
       "\n",
       "    .dataframe thead th {\n",
       "        text-align: right;\n",
       "    }\n",
       "</style>\n",
       "<table border=\"1\" class=\"dataframe\">\n",
       "  <thead>\n",
       "    <tr style=\"text-align: right;\">\n",
       "      <th></th>\n",
       "      <th>title</th>\n",
       "      <th>text</th>\n",
       "      <th>url</th>\n",
       "      <th>category</th>\n",
       "      <th>full_text</th>\n",
       "      <th>clean_text</th>\n",
       "    </tr>\n",
       "  </thead>\n",
       "  <tbody>\n",
       "    <tr>\n",
       "      <th>0</th>\n",
       "      <td>Don\"t Mourn the Y Chromosome</td>\n",
       "      <td>The human Y chromosome may vanish one day, but...</td>\n",
       "      <td>http://discovermagazine.com/2014/nov/13-y-not</td>\n",
       "      <td>technology_science</td>\n",
       "      <td>The human Y chromosome may vanish one day, but...</td>\n",
       "      <td>human chromosome may vanish one day perhaps wo...</td>\n",
       "    </tr>\n",
       "    <tr>\n",
       "      <th>1</th>\n",
       "      <td>Destiny: Bungie to introduce ammo pack micro-t...</td>\n",
       "      <td>Bungie is putting together plans to start sell...</td>\n",
       "      <td>http://www.ibtimes.co.uk/destiny-bungie-introd...</td>\n",
       "      <td>digital_life</td>\n",
       "      <td>Bungie is putting together plans to start sell...</td>\n",
       "      <td>bungie put together plan start sell ammo pack ...</td>\n",
       "    </tr>\n",
       "    <tr>\n",
       "      <th>2</th>\n",
       "      <td>Daruvala to race for Josef Kaufmann Racing in ...</td>\n",
       "      <td>Highly rated Jehan Daruvala will race for Jose...</td>\n",
       "      <td>http://www.thecheckeredflag.co.uk/2015/12/daru...</td>\n",
       "      <td>sports</td>\n",
       "      <td>Highly rated Jehan Daruvala will race for Jose...</td>\n",
       "      <td>highly rate jehan daruvala race josef kaufmann...</td>\n",
       "    </tr>\n",
       "    <tr>\n",
       "      <th>3</th>\n",
       "      <td>Secondary tropical forests absorb carbon at hi...</td>\n",
       "      <td>Forests are an important carbon sink. While mo...</td>\n",
       "      <td>http://www.sciencedaily.com/releases/2016/02/1...</td>\n",
       "      <td>technology_science</td>\n",
       "      <td>Forests are an important carbon sink. While mo...</td>\n",
       "      <td>forest important carbon sink attention focus o...</td>\n",
       "    </tr>\n",
       "    <tr>\n",
       "      <th>4</th>\n",
       "      <td>This Brow Hack Will Change the Way You Fill In...</td>\n",
       "      <td>Before everyone was trying to get eyebrows on ...</td>\n",
       "      <td>http://www.popsugar.com/beauty/How-Use-Brow-Ge...</td>\n",
       "      <td>fashion_beauty_lifestyle</td>\n",
       "      <td>Before everyone was trying to get eyebrows on ...</td>\n",
       "      <td>everyone try get eyebrow fleek mom introduce o...</td>\n",
       "    </tr>\n",
       "  </tbody>\n",
       "</table>\n",
       "</div>"
      ],
      "text/plain": [
       "                                               title  \\\n",
       "0                       Don\"t Mourn the Y Chromosome   \n",
       "1  Destiny: Bungie to introduce ammo pack micro-t...   \n",
       "2  Daruvala to race for Josef Kaufmann Racing in ...   \n",
       "3  Secondary tropical forests absorb carbon at hi...   \n",
       "4  This Brow Hack Will Change the Way You Fill In...   \n",
       "\n",
       "                                                text  \\\n",
       "0  The human Y chromosome may vanish one day, but...   \n",
       "1  Bungie is putting together plans to start sell...   \n",
       "2  Highly rated Jehan Daruvala will race for Jose...   \n",
       "3  Forests are an important carbon sink. While mo...   \n",
       "4  Before everyone was trying to get eyebrows on ...   \n",
       "\n",
       "                                                 url  \\\n",
       "0      http://discovermagazine.com/2014/nov/13-y-not   \n",
       "1  http://www.ibtimes.co.uk/destiny-bungie-introd...   \n",
       "2  http://www.thecheckeredflag.co.uk/2015/12/daru...   \n",
       "3  http://www.sciencedaily.com/releases/2016/02/1...   \n",
       "4  http://www.popsugar.com/beauty/How-Use-Brow-Ge...   \n",
       "\n",
       "                   category  \\\n",
       "0        technology_science   \n",
       "1              digital_life   \n",
       "2                    sports   \n",
       "3        technology_science   \n",
       "4  fashion_beauty_lifestyle   \n",
       "\n",
       "                                           full_text  \\\n",
       "0  The human Y chromosome may vanish one day, but...   \n",
       "1  Bungie is putting together plans to start sell...   \n",
       "2  Highly rated Jehan Daruvala will race for Jose...   \n",
       "3  Forests are an important carbon sink. While mo...   \n",
       "4  Before everyone was trying to get eyebrows on ...   \n",
       "\n",
       "                                          clean_text  \n",
       "0  human chromosome may vanish one day perhaps wo...  \n",
       "1  bungie put together plan start sell ammo pack ...  \n",
       "2  highly rate jehan daruvala race josef kaufmann...  \n",
       "3  forest important carbon sink attention focus o...  \n",
       "4  everyone try get eyebrow fleek mom introduce o...  "
      ]
     },
     "execution_count": 14,
     "metadata": {},
     "output_type": "execute_result"
    }
   ],
   "source": [
    "df.head()"
   ]
  },
  {
   "cell_type": "markdown",
   "metadata": {},
   "source": [
    "<br>\n",
    "<br>\n",
    "Let's drop the columns we don't need anymore. We'll just keep the `clean` text column, and the `category` column."
   ]
  },
  {
   "cell_type": "code",
   "execution_count": 15,
   "metadata": {},
   "outputs": [],
   "source": [
    "modeling_df = df.drop(['title', 'text', 'url', 'full_text'], axis=1)"
   ]
  },
  {
   "cell_type": "markdown",
   "metadata": {},
   "source": [
    "<br>\n",
    "<br>\n",
    "Now let's prepare our TF-IDF vectorizer. We'll define a function for directly computing the TF-IDF feature vectors for documents from the raw, normalized and pre-processed documents."
   ]
  },
  {
   "cell_type": "code",
   "execution_count": 16,
   "metadata": {},
   "outputs": [],
   "source": [
    "# Define function to directly compute the TF-IDF-based feature vectors for documents from the raw documents\n",
    "def tfidf_extractor(corpus, ngram_range=(1,1)):\n",
    "    vectorizer = TfidfVectorizer(min_df=1,\n",
    "                                 norm='l2',\n",
    "                                 smooth_idf=True,\n",
    "                                 use_idf=True,\n",
    "                                 ngram_range=ngram_range)\n",
    "    features = vectorizer.fit_transform(corpus)\n",
    "    return vectorizer, features"
   ]
  },
  {
   "cell_type": "markdown",
   "metadata": {},
   "source": [
    "<br>\n",
    "<br>"
   ]
  },
  {
   "cell_type": "markdown",
   "metadata": {},
   "source": [
    "## Machine Learning ##"
   ]
  },
  {
   "cell_type": "markdown",
   "metadata": {},
   "source": [
    "### Split data into Training and Test Set ###"
   ]
  },
  {
   "cell_type": "markdown",
   "metadata": {},
   "source": [
    "We can't train the data on the entire dataset, and then evaluate in on the same training set. This is the surest way to overfit the model. We need to \"chop off\" a part of the dataset, which we will use for evaluation (a.k.a. the test set). This will provide us with a good estimate as to whether our model generalizes well on previously unseen data. For this project, we'll use a 70/30 split. We make sute to set the seed for the random number generator, in order to ensure reproducibility. Finally, we stratify the sample on the `category` column, in order to preserve the distribution of the categories in both sets."
   ]
  },
  {
   "cell_type": "code",
   "execution_count": 17,
   "metadata": {},
   "outputs": [],
   "source": [
    "X = modeling_df['clean_text']\n",
    "Y = modeling_df['category']\n",
    "\n",
    "train_X, test_X, train_Y, test_Y = train_test_split(X, Y, test_size=0.3, random_state=42, stratify=Y)"
   ]
  },
  {
   "cell_type": "code",
   "execution_count": 18,
   "metadata": {},
   "outputs": [],
   "source": [
    "train_corpus, test_corpus = train_X.values.astype('U'), test_X.values.astype('U')\n",
    "train_labels, test_labels = train_Y, test_Y"
   ]
  },
  {
   "cell_type": "markdown",
   "metadata": {},
   "source": [
    "<br>\n",
    "<br>\n",
    "Let's build the TF-IDF features:"
   ]
  },
  {
   "cell_type": "code",
   "execution_count": 19,
   "metadata": {},
   "outputs": [],
   "source": [
    "# Define function to display feature names\n",
    "def display_features(features, feature_names):\n",
    "    df = pd.DataFrame(data=features,\n",
    "                      columns=feature_names)\n",
    "    print (df)"
   ]
  },
  {
   "cell_type": "code",
   "execution_count": 20,
   "metadata": {},
   "outputs": [],
   "source": [
    "feature_set = []\n",
    "tfidf_vectorizer, tfidf_train_features = tfidf_extractor(train_corpus)  \n",
    "tfidf_test_features = tfidf_vectorizer.transform(test_corpus)\n",
    "feature_set.append(('TF-IDF Features', tfidf_train_features, tfidf_test_features))"
   ]
  },
  {
   "cell_type": "code",
   "execution_count": 21,
   "metadata": {},
   "outputs": [],
   "source": [
    "feature_names = tfidf_vectorizer.get_feature_names()"
   ]
  },
  {
   "cell_type": "code",
   "execution_count": 22,
   "metadata": {},
   "outputs": [
    {
     "name": "stdout",
     "output_type": "stream",
     "text": [
      "    aa  aaa  aaaaah  aaas  aac  aacc  aachen  aad  aadhar  aah  ...  zydeco  \\\n",
      "0  0.0  0.0     0.0   0.0  0.0   0.0     0.0  0.0     0.0  0.0  ...     0.0   \n",
      "1  0.0  0.0     0.0   0.0  0.0   0.0     0.0  0.0     0.0  0.0  ...     0.0   \n",
      "2  0.0  0.0     0.0   0.0  0.0   0.0     0.0  0.0     0.0  0.0  ...     0.0   \n",
      "3  0.0  0.0     0.0   0.0  0.0   0.0     0.0  0.0     0.0  0.0  ...     0.0   \n",
      "4  0.0  0.0     0.0   0.0  0.0   0.0     0.0  0.0     0.0  0.0  ...     0.0   \n",
      "\n",
      "   zygotic  zyklus  zyl  zylon  zyprexa  zziwa  zzz  zzzs  zzzz  \n",
      "0      0.0     0.0  0.0    0.0      0.0    0.0  0.0   0.0   0.0  \n",
      "1      0.0     0.0  0.0    0.0      0.0    0.0  0.0   0.0   0.0  \n",
      "2      0.0     0.0  0.0    0.0      0.0    0.0  0.0   0.0   0.0  \n",
      "3      0.0     0.0  0.0    0.0      0.0    0.0  0.0   0.0   0.0  \n",
      "4      0.0     0.0  0.0    0.0      0.0    0.0  0.0   0.0   0.0  \n",
      "\n",
      "[5 rows x 75062 columns]\n"
     ]
    }
   ],
   "source": [
    "features = tfidf_train_features.todense()\n",
    "features_tfidf = np.round(features, 2)\n",
    "display_features(features_tfidf[0:5], feature_names)"
   ]
  },
  {
   "cell_type": "markdown",
   "metadata": {},
   "source": [
    "<br>\n",
    "<br>"
   ]
  },
  {
   "cell_type": "markdown",
   "metadata": {},
   "source": [
    "After building and inspecting the features, now it's time to start building models.\n",
    "<br>\n",
    "<br>"
   ]
  },
  {
   "cell_type": "markdown",
   "metadata": {},
   "source": [
    "<br>\n",
    "<br>"
   ]
  },
  {
   "cell_type": "markdown",
   "metadata": {},
   "source": [
    "## Machine Learning ##"
   ]
  },
  {
   "cell_type": "markdown",
   "metadata": {},
   "source": [
    "There are a number of classification algorithms that we can try. Good candidadates would be Multinomial Logistic Regression, Multinomial Naive Bayes, as well as Support Vector Machines. But as this is just an initial proof of concept, we'll go with our favorite algorithm - Random Forests. Random Forests are great because they are robust to overfitting, do automated feature selection, and tend to do a good job straight out of the box, without much hyperparameter tuning."
   ]
  },
  {
   "cell_type": "code",
   "execution_count": 23,
   "metadata": {},
   "outputs": [],
   "source": [
    "# Fit the Random Forest classifier\n",
    "rfc = RandomForestClassifier(random_state=176, n_estimators=100).fit(features, train_labels)\n",
    "\n",
    "# Generate the predictions\n",
    "rfc_preds = rfc.predict(tfidf_test_features)"
   ]
  },
  {
   "cell_type": "markdown",
   "metadata": {},
   "source": [
    "<br>\n",
    "<br>\n",
    "Let's take a look at the accuracy metrics of our model. For Precision, Recall and F1 Score, we set the averaging flag to `weighted` so as to calculate metrics for each label, and find their average weighted by support (the number of true instances for each label)."
   ]
  },
  {
   "cell_type": "code",
   "execution_count": 24,
   "metadata": {},
   "outputs": [],
   "source": [
    "accuracy = accuracy_score(test_labels, rfc_preds)\n",
    "balanced_accuracy = balanced_accuracy_score(test_labels, rfc_preds)\n",
    "precision = precision_score(test_labels, rfc_preds, average='weighted')\n",
    "recall = recall_score(test_labels, rfc_preds, average='weighted')\n",
    "f1 = f1_score(test_labels, rfc_preds, average='weighted')"
   ]
  },
  {
   "cell_type": "code",
   "execution_count": 25,
   "metadata": {},
   "outputs": [
    {
     "data": {
      "text/html": [
       "<div>\n",
       "<style scoped>\n",
       "    .dataframe tbody tr th:only-of-type {\n",
       "        vertical-align: middle;\n",
       "    }\n",
       "\n",
       "    .dataframe tbody tr th {\n",
       "        vertical-align: top;\n",
       "    }\n",
       "\n",
       "    .dataframe thead th {\n",
       "        text-align: right;\n",
       "    }\n",
       "</style>\n",
       "<table border=\"1\" class=\"dataframe\">\n",
       "  <thead>\n",
       "    <tr style=\"text-align: right;\">\n",
       "      <th></th>\n",
       "      <th>Metrics</th>\n",
       "    </tr>\n",
       "  </thead>\n",
       "  <tbody>\n",
       "    <tr>\n",
       "      <th>Accuracy</th>\n",
       "      <td>0.765613</td>\n",
       "    </tr>\n",
       "    <tr>\n",
       "      <th>Balanced Accuracy</th>\n",
       "      <td>0.715937</td>\n",
       "    </tr>\n",
       "    <tr>\n",
       "      <th>Precision</th>\n",
       "      <td>0.794809</td>\n",
       "    </tr>\n",
       "    <tr>\n",
       "      <th>Recall</th>\n",
       "      <td>0.765613</td>\n",
       "    </tr>\n",
       "    <tr>\n",
       "      <th>F1 Score</th>\n",
       "      <td>0.758801</td>\n",
       "    </tr>\n",
       "  </tbody>\n",
       "</table>\n",
       "</div>"
      ],
      "text/plain": [
       "                    Metrics\n",
       "Accuracy           0.765613\n",
       "Balanced Accuracy  0.715937\n",
       "Precision          0.794809\n",
       "Recall             0.765613\n",
       "F1 Score           0.758801"
      ]
     },
     "execution_count": 25,
     "metadata": {},
     "output_type": "execute_result"
    }
   ],
   "source": [
    "metrics = {'Metrics': [accuracy, balanced_accuracy, precision, recall, f1]}\n",
    "metrics_df = pd.DataFrame(metrics, index=['Accuracy', 'Balanced Accuracy', 'Precision', 'Recall', 'F1 Score'])\n",
    "metrics_df"
   ]
  },
  {
   "cell_type": "markdown",
   "metadata": {},
   "source": [
    "<br>\n",
    "<br>\n",
    "The model does reasonably well. But looking at overall scores doesn't paint a complete picture. We need to look at the accuracy metrics per category, so that we have a more complete feeling for our model's accuracy."
   ]
  },
  {
   "cell_type": "code",
   "execution_count": 26,
   "metadata": {},
   "outputs": [
    {
     "name": "stdout",
     "output_type": "stream",
     "text": [
      "                          precision    recall  f1-score   support\n",
      "\n",
      "             cars_motors       0.92      0.73      0.81       141\n",
      "                 culture       0.94      0.38      0.54       164\n",
      "            digital_life       0.86      0.67      0.76       221\n",
      "fashion_beauty_lifestyle       0.59      0.89      0.71       420\n",
      "          money_business       0.79      0.77      0.78       220\n",
      "                   music       0.89      0.94      0.91       170\n",
      "                    news       0.77      0.64      0.70       194\n",
      "            people_shows       0.82      0.38      0.52       110\n",
      "                politics       0.82      0.67      0.74       129\n",
      "                  sports       0.77      0.98      0.87       350\n",
      "      technology_science       0.75      0.83      0.79       312\n",
      "                  travel       0.99      0.72      0.83       163\n",
      "\n",
      "                accuracy                           0.77      2594\n",
      "               macro avg       0.83      0.72      0.75      2594\n",
      "            weighted avg       0.79      0.77      0.76      2594\n",
      "\n"
     ]
    }
   ],
   "source": [
    "print(classification_report(test_labels, rfc_preds))"
   ]
  },
  {
   "cell_type": "markdown",
   "metadata": {},
   "source": [
    "<br>\n",
    "<br>"
   ]
  },
  {
   "cell_type": "markdown",
   "metadata": {},
   "source": [
    "## Deep Learning ##"
   ]
  },
  {
   "cell_type": "markdown",
   "metadata": {},
   "source": [
    "Our model does fairly well, with a 76% overall accuracy. But can we do better? One approach that has been shown to work very well on NLP tasks in recent years is the use of Deep Neural Networks.\n",
    "<br>\n",
    "<br>\n",
    "For good measure, we are going to train a simple neural network, with just a few Dense layers. We're going to be using Dropout regularization, so as to stop the network from overfitting."
   ]
  },
  {
   "cell_type": "markdown",
   "metadata": {},
   "source": [
    "First, we need to prepare the data, as we can just use pandas dataframes. As we're using TensorFlow (through the Keras API), we're going to need to pass in Numpy arrays when it comes to the features."
   ]
  },
  {
   "cell_type": "code",
   "execution_count": 27,
   "metadata": {},
   "outputs": [],
   "source": [
    "X_train = features.A\n",
    "X_test = tfidf_test_features.A"
   ]
  },
  {
   "cell_type": "markdown",
   "metadata": {},
   "source": [
    "The labels (categories) need to be One-Hot-Encoded:"
   ]
  },
  {
   "cell_type": "code",
   "execution_count": 28,
   "metadata": {},
   "outputs": [],
   "source": [
    "one_hot = MultiLabelBinarizer()\n",
    "y_test = one_hot.fit_transform(test_labels)\n",
    "y_train = one_hot.fit_transform(train_labels)"
   ]
  },
  {
   "cell_type": "markdown",
   "metadata": {},
   "source": [
    "Next, we instantiate our network:"
   ]
  },
  {
   "cell_type": "code",
   "execution_count": 29,
   "metadata": {},
   "outputs": [
    {
     "name": "stdout",
     "output_type": "stream",
     "text": [
      "Model: \"sequential\"\n",
      "_________________________________________________________________\n",
      "Layer (type)                 Output Shape              Param #   \n",
      "=================================================================\n",
      "dense (Dense)                (None, 512)               38432256  \n",
      "_________________________________________________________________\n",
      "dropout (Dropout)            (None, 512)               0         \n",
      "_________________________________________________________________\n",
      "dense_1 (Dense)              (None, 22)                11286     \n",
      "=================================================================\n",
      "Total params: 38,443,542\n",
      "Trainable params: 38,443,542\n",
      "Non-trainable params: 0\n",
      "_________________________________________________________________\n"
     ]
    }
   ],
   "source": [
    "model = models.Sequential()\n",
    "model.add(layers.Dense(512, activation='relu', input_shape=(75062,)))\n",
    "model.add(layers.Dropout(0.2))\n",
    "model.add(layers.Dense(22, activation='softmax'))\n",
    "model.summary()"
   ]
  },
  {
   "cell_type": "markdown",
   "metadata": {},
   "source": [
    "<br>\n",
    "<br>\n",
    "Next we compile, fit and evaluate our network:"
   ]
  },
  {
   "cell_type": "code",
   "execution_count": 30,
   "metadata": {},
   "outputs": [
    {
     "name": "stdout",
     "output_type": "stream",
     "text": [
      "Train on 6052 samples, validate on 2594 samples\n",
      "Epoch 1/10\n",
      "6052/6052 [==============================] - 4s 684us/sample - loss: 25.5651 - accuracy: 0.0740 - val_loss: 25.1383 - val_accuracy: 0.0748\n",
      "Epoch 2/10\n",
      "6052/6052 [==============================] - 3s 492us/sample - loss: 25.1953 - accuracy: 0.0755 - val_loss: 25.3378 - val_accuracy: 0.0748\n",
      "Epoch 3/10\n",
      "6052/6052 [==============================] - 3s 480us/sample - loss: 25.5859 - accuracy: 0.0770 - val_loss: 25.7812 - val_accuracy: 0.0748\n",
      "Epoch 4/10\n",
      "6052/6052 [==============================] - 3s 482us/sample - loss: 26.1239 - accuracy: 0.0820 - val_loss: 26.2009 - val_accuracy: 0.0748\n",
      "Epoch 5/10\n",
      "6052/6052 [==============================] - 3s 484us/sample - loss: 26.6959 - accuracy: 0.0925 - val_loss: 26.6244 - val_accuracy: 0.0748\n",
      "Epoch 6/10\n",
      "6052/6052 [==============================] - 3s 490us/sample - loss: 27.3200 - accuracy: 0.0962 - val_loss: 27.0492 - val_accuracy: 0.0748\n",
      "Epoch 7/10\n",
      "6052/6052 [==============================] - 3s 506us/sample - loss: 28.0601 - accuracy: 0.1003 - val_loss: 27.5788 - val_accuracy: 0.0748\n",
      "Epoch 8/10\n",
      "6052/6052 [==============================] - 3s 482us/sample - loss: 28.8693 - accuracy: 0.1031 - val_loss: 28.0018 - val_accuracy: 0.0748\n",
      "Epoch 9/10\n",
      "6052/6052 [==============================] - 3s 499us/sample - loss: 29.6147 - accuracy: 0.1062 - val_loss: 28.5849 - val_accuracy: 0.0748\n",
      "Epoch 10/10\n",
      "6052/6052 [==============================] - 3s 499us/sample - loss: 30.5298 - accuracy: 0.1096 - val_loss: 29.1177 - val_accuracy: 0.0748\n",
      "2594/1 [============================================================================================================================================================================================================================================================================================================================================================================================================================================================================================================================================================================================================================================================================================================================================================================================================================================================================================================================================================================================================================================================================================================================================================================================================================================================================================================================================================================================================================================================================================================================================================================================================================================================================================================================================================================================================================================================================================================================================================================================================================================================================================================================================================================================================================================================================================================================================================================================================================================================================================================================================================================================================================================================================================================================================================================================================================================================================================================================================================================================================================================================================================================================================================================================================================================================================================================================================================================================================================================================================================================================================================================================================================================================================================================================================================================================================================================================================================================================================================================================================================================================================================================================================================================================================================================================================================================================================================================================================================================================================================================================================================================================================================================================================================================================================================================================================================================================================================================================================================================================================================================================================================================================================================================================================================================================================================================================================================================================================================================================================================================================================================================================================================================================================================================================================================================================================================================================================================================================================================================================================================================================================================================================================================================================================================================================================================================================================================================================================================================================================================================================================================================================================================================================================================================================================================================================================================================================================================================================================================================================================================================================================================================================================================================================================================================================================================================================================================================================================================================================================================================================================================================================================================================================================================================================================================================================================================================================================================================================================================================================================================================================================================================================================================================================================================================================================================================================================================================================================================================================================================================================================================================================================================================================================================================================================================================================================================================================================================================================================================================================================================================================================================================================================================================================================================================================================================================================================================================================================================================================================================================================================================================================================================================================================================================================================================================================================================================================================================================================================================================================================================================================================================================================================================================================================================================================================================================================================================================================================================================================================================================================================================================================================================================================================================================================================================================================================================================================================================================================================================================================================================================================================================================================================================================================================================================================================================================================================================================================================================================================================================================================================================================================================================================================================================================================================================================================================================================================================================================================================================================================================================================================================================================================================================================================================================================================================================================================================================================================================================================================================================================================================================================================================================================================================================================================================================================================================================================================================================================================================================================================================================================================================================================================================================================================================================================================================================================================================================================================================================================================================================================================================================================================================================================================================================================================================================================================================================================================================================================================================================================================================================================================================================================================================================================================================================================================================================================================================================================================================================================================================================================================================================================================================================================================================================================================================================================================================================================================================================================================================================================================================================================================================================================================================================================================================================================================================================================================================================================================================================================================================================================================================================================================================================================================================================================================================================================================================================================================================================================================================================================================================================================================================================================================================================================================================================================================================================================================================================================================================================================================================================================================================================================================================================================================================================================================================================================================================================================================================================================================================================================================================================================================================================================================================================================================================================================================================================================================================================================================================================================================================================================================================================================================================================================================================================================================================================================================================================================================================================================================================================================================================================================================================================================================================================================================================================================================================================================================================================================================================================================================================================================================================================================================================================================================================================================================================================================================================================================================================================================================================================================================================================================================================================================================================================================================================================================================================================================================================================================================================================================================================================================================================================================================================================================================================================================================================================================================================================================================================================================================================================================================================================================================================================================================================================================================================================================================================================================================================================================================================================================================================================================================================================================================================================================================================================================================================================================================================================================================================================================================================================================================================================================================================================================================================================================================================================================================================================================================================================================================================================================================================================================================================================================================================================================================================================================================================================================================================================================================================================================================================================================================================================================================================================================================================================================================================================================================================================================================================================================================================================================================================================================================================================================================================================================================================================================================================================================================================================================================================================================================================================================================================================================================================================================================================================================================================================================================================================================================================================================================================================================================================================================================================================================================================================================================================================================================================================================================================================================================================================================================================================================================================================================================================================================================================================================================================================================================================================================================================================================================================================================================================================================================================================================================================================================================================================================================================================================================================================================================================================================================================================================================================================================================================================================================================================================================================================================================================================================================================================================================================================================================================================================================================================================================================================================================================================================================================================================================================================================================================================================================================================================================================================================================================================================================================================================================================================================================================================================================================================================================================================================================================================================================================================================================================================================================================================================================================================================================================================================================================================================================================================================================================================================================================================================================================================================================================================================================================================================================================================================================================================================================================================================================================================================================================================================================================================================================================================================================================================================================================================================================================================================================================================================================================================================================================================================================================================================================================================================================================================================================================================================================================================================================================================================================================================================================================================================================================================================================================================================================================================================================================================================================================================================================================================================================================================================================================================================================================================================================================================================================================================================================================================================================================================================================================================================================================================================================================================================================================================================================================================================================================================================================================================================================================================================================================================================================================================================================================================================================================================================================================================================================================================================================================================================================================================================================================================================================================================================================================================================================================================================================================================================================================================================================================================================================================================================================================================================================================================================================================================================================================================================================================================================================================================================================================================================================================================================================================================================================================================================================================================================================================================================================================================================================================================================================================================================================================================================================================================================================================================================================================================================================================================================================================================================================================================================================================================================================================================================================================================================================================================================================================================================================================================================================================================================================================================================================================================================================================================================================================================================================================================================================================================================================================================================================================================================================================================================================================================================================================================================================================================================================================================================================================================================================================================================================================================================================================================================================================================================================================================================================================================================================================================================================================================================================================================================================================================================================================================================================================================================================================================================================================================================================================================================================================================================================================================================================================================================================================================================================================================================================================================================================================================================================================================================================================================================================================================================================================================================================================================================================================================================================================================================================================================================================================================================================================================================================================================================================================================================================================================================================================================================================================================================================================================================================================================================================================================================================================================================================================================================================================================================================================================================================================================================================================================================================================================================================================================================================================================================================================================================================================================================================================================================================================================================================================================================================================================================================================================================================================================================================================================================================================================================================================================================================================================================================================================================================================================================================================================================================================================================================================================================================================================================================================================================================================================================================================================================================================================================================================================================================================================================================================================================================================================================================================================================================================================================================================================================================================================================================================================================================================================================================================================================================================================================================================================================================================================================================================================================================================================================================================================================================================================================================================================================================================================================================================================================================================================================================================================================================================================================================================================================================================================================================================================================================================================================================================================================================================================================================================================================================================================================================================================================================================================================================================================================================================================================================================================================================================================================================================================================================================================================================================================================================================================================================================================================================================================================================================================================================================================================================================================================================================================================================================================================================================================================================================================================================================================================================================================================================================================================================================================================================================================================================================================================================================================================================================================================================================================================================================================================================================================================================================================================================================================================================================================================================================================================================================================================================================================================================================================================================================================================================================================================================================================================================================================================================================================================================================================================================================================================================================================================================================================================================================================================================================================================================================================================================================================================================================================================================================================================================================================================================================================================================================================================================================================================================================================================================================================================================================================================================================================================================================================================================================================================================================================================================================================================================================================================================================================================================================================================================================================================================================================================================================================================================================================================================================================================================================================================================================================================================================================================================================================================================================================================================================================================================================================================================================================================================================================================================================================================================================================================================================================================================================================================================================================================================================================================================================================================================================================================================================================================================================================================================================================================================================================================================================================================================================================================================================================================================================================================================================================================================================================================================================================================================================================================================================================================================================================================================================================================================================================================================================================================================================================================================================================================================================================================================================================================================================================================================================================================================================================================================================================================================================================================================================================================================================================================================================================================================================================================================================================================================================================================================================================================================================================================================================================================================================================================================================================================================================================================================================================================================================================================================================================================================================================================================================================================================================================================================================================================================================================================================================================================================================================================================================================================================================================================================================================================================================================================================================================================================================================================================================================================================================================================================================================================================================================================================================================================================================================================================================================================================================================================================================================================================================================================================================================================================================================================================================================================================================================================================================================================================================================================================================================================================================================================================================================================================================================================================================================================================================================================================================================================================================================================================================================================================================================================================================================================================================================================================================================================================================================================================================================================================================================================================================================================================================================================================================================================================================================================================================================================================================================================================================================================================================================================================================================================================================================================================================================================================================================================================================================================================================================================================================================================================================================================================================================================================================================================================================================================================================================================================================================================================================================================================================================================================================================================================================================================================================================================================================================================================================================================================================================================================================================================================================================================================================================================================================================================================================================================================================================================================================================================================================================================================================================================================================================================================================================================================================================================================================================================================================================================================================================================================================================================================================================================================================================================================================================================================================================================================================================================================================================================================================================================================================================================================================================================================================================================================================================================================================================================================================================================================================================================================================================================================================================================================================================================================================================================================================================================================================================================================================================================================================================================================================================================================================================================================================================================================================================================================================================================================================================================================================================================================================================================================================================================================================================================================================================================================================================================================================================================================================================================================================================================================================================================================================================================================================================================================================================================================================================================================================================================================================================================================================================================================================================================================================================================================================================================================================================================================================================================================================================================================================================================================================================================================================================================================================================================================================================================================================================================================================================================================================================================================================================================================================================================================================================================================================================================================================================================================================================================================================================================================================================================================================================================================================================================================================================================================================================================================================================================================================================================================================================================================================================================================================================================================================================================================================================================================================================================================================================================================================================================================================================================================================================================================================================================================================================================================================================================================================================================================================================================================================================================================================================================================================================================================================================================================================================================================================================================================================================================================================================================================================================================================================================================================================================================================================================================================================================================================================================================================================================================================================================================================================================================================================================================================================================================================================================================================================================================================================================================================================================================================================================================================================================================================================================================================================================================================================================================================================================================================================================================================================================================================================================================================================================================================================================================================================================================================================================================================================================================================================================================================================================================================================================================================================================================================================================================================================================================================================================================================================================================================================================================================================================================================================================================================================================================================================================================================================================================================================================================================================================================================================================================================================================================================================================================================================================================================================================================================================================================================================================================================================================================================================================================================================================================================================================================================================================================================================================================================================================================================================================================================================================================================================================================================================================================================================================================================================================================================================================================================================================================================================================================================================================================================================================================================================================================================================================================================================================================================================================================================================================================================================================================================================================================================================================================================================================================================================================================================================================================================================================================================================================================================================================================================================================================================================================================================================================================================================================================================================================================================================================================================================================================================================================================================================================================================================================================================================================================================================================================================================================================================================================================================================================================================================================================================================================================================================================================================================================================================================================================================================================================================================================================================================================================================================================================================================================================================================================================================================================================================================================================================================================================================================================================================================================================================================================================================================================================================================================================================================================================================================================================================================================================================================================================================================================================================================================================================================================================================================================================================================================================================================================================================================================================================================================================================================================================================================================================================================================================================================================================================================================================================================================================================================================================================================================================================================================================================================================================================================================================================================================================================================================================================================================================================================================================================================================================================================================================================================================================================================================================================================================================================================================================================================================================================================================================================================================================================================================================================================================================================================================================================================================================================================================================================================================================================================================================================================================================================================================================================================================================================================================================================================================================================================================================================================================================================================================================================================================================================================================================================================================================================================================================================================================================================================================================================================================================================================================================================================================================================================================================================================================================================================================================================================================================================================================================================================================================================================================================================================================================================================================================================================================================================================================================================================================================================================================================================================================================================================================================================================================================================================================================================================================================================================================================================================================================================================================================================================================================================================================================================================================================================================================================================================================================================================================================================================================================================================================================================================================================================================================================================================================================================================================================================================================================================================================================================================================================================================================================================================================================================================================================================================================================================================================================================================================================================================================================================================================================================================================================================================================================================================================================================================================================================================================================================================================================================================================================================================================================================================================================================================================================================================================================================================================================================================================================================================================================================================================================================================================================================================================================================================================================================================================================================================================================================================================================================================================================================================================================================================================================================================================================================================================================================================================================================================================================================================================================================================================================================================================================================================================================================================================================================================================================================================================================================================================================================================================================================================================================================================================================================================================================================================================================================================================================================================================================================================================================================================================================================================================================================================================================================================================================================================================================================================================================================================================================================================================================================================================================================================================================================================================================================================================================================================================================================================================================================================================================================================================================================================================================================================================================================================================================================================================================================] - 1s 333us/sample - loss: 28.5722 - accuracy: 0.0748\n"
     ]
    },
    {
     "name": "stdout",
     "output_type": "stream",
     "text": [
      "Test Loss and Accuracy\n",
      "results  [29.117689062102354, 0.074787974]\n"
     ]
    }
   ],
   "source": [
    "num_epochs = 10\n",
    "batch_size = 512\n",
    "\n",
    "model.compile(optimizer='rmsprop', loss='categorical_crossentropy', metrics=['accuracy'])\n",
    "history = model.fit(X_train, y_train, epochs=num_epochs, batch_size=batch_size, validation_data=(X_test, y_test))\n",
    "\n",
    "results = model.evaluate(X_test, y_test)\n",
    "print(\"Test Loss and Accuracy\")\n",
    "print(\"results \", results)\n",
    "\n",
    "history_dict = history.history"
   ]
  },
  {
   "cell_type": "markdown",
   "metadata": {},
   "source": [
    "<br>\n",
    "<br>\n",
    "Wow, the neural network performs very very poorly. We can visualize to see what's happening with the Loss and the Accuracy over the 10 epochs:"
   ]
  },
  {
   "cell_type": "code",
   "execution_count": 31,
   "metadata": {},
   "outputs": [
    {
     "data": {
      "image/png": "[encoded data removed]",
      "text/plain": [
       "<Figure size 432x288 with 1 Axes>"
      ]
     },
     "metadata": {
      "needs_background": "light"
     },
     "output_type": "display_data"
    }
   ],
   "source": [
    "# Loss Curves\n",
    "plt.clf()\n",
    "loss = history.history['loss']\n",
    "val_loss = history.history['val_loss']\n",
    "epochs = range(1, len(loss) + 1)\n",
    "plt.plot(epochs, loss, 'bo', label='Training Loss')\n",
    "plt.plot(epochs, val_loss, 'b', label='Validation Loss')\n",
    "plt.title('Training and Validation Loss')\n",
    "plt.xlabel('Epochs')\n",
    "plt.ylabel('Loss')\n",
    "plt.legend()\n",
    "plt.show()"
   ]
  },
  {
   "cell_type": "code",
   "execution_count": 32,
   "metadata": {},
   "outputs": [
    {
     "data": {
      "image/png": "[encoded data removed]",
      "text/plain": [
       "<Figure size 432x288 with 1 Axes>"
      ]
     },
     "metadata": {
      "needs_background": "light"
     },
     "output_type": "display_data"
    }
   ],
   "source": [
    "# Accuracy Curves\n",
    "plt.clf()\n",
    "acc = history.history['accuracy']\n",
    "val_acc = history.history['val_accuracy']\n",
    "plt.plot(epochs, acc, 'bo', label='Training Accuracy')\n",
    "plt.plot(epochs, val_acc, 'b', label='Validation Accuracy')\n",
    "plt.title('Training and Validation Accuracy')\n",
    "plt.xlabel('Epochs')\n",
    "plt.ylabel('Accuracy')\n",
    "plt.legend()\n",
    "plt.show()"
   ]
  },
  {
   "cell_type": "markdown",
   "metadata": {},
   "source": [
    "We can see that the Accuracy of the Deep Neural Network is insanely poor, straight from the first epoch. Most likely this is due to to to a small training set - neural networks are data-hungry, and a training set of around 6,000 records is not large enough. "
   ]
  },
  {
   "cell_type": "markdown",
   "metadata": {},
   "source": [
    "<br>\n",
    "<br>"
   ]
  },
  {
   "cell_type": "markdown",
   "metadata": {},
   "source": [
    "## Potential Next Steps ##"
   ]
  },
  {
   "cell_type": "markdown",
   "metadata": {},
   "source": [
    "For further work on this project, we suggest the use of other methods, namely:\n",
    "\n",
    "* A Bag of Words model with bigrams and trigrams\n",
    "* A TF-IDF model with bigrams and trigrams\n",
    "* An Averaged Word Vector model\n",
    "* A TF-IDF Averaged Word Vectors model\n",
    "* Collecting more data for the Deep Neural Network\n"
   ]
  },
  {
   "cell_type": "markdown",
   "metadata": {},
   "source": [
    "<br>\n",
    "<br>"
   ]
  },
  {
   "cell_type": "markdown",
   "metadata": {},
   "source": [
    "## Thank You! ##"
   ]
  }
 ],
 "metadata": {
  "kernelspec": {
   "display_name": "Python 3",
   "language": "python",
   "name": "python3"
  },
  "language_info": {
   "codemirror_mode": {
    "name": "ipython",
    "version": 3
   },
   "file_extension": ".py",
   "mimetype": "text/x-python",
   "name": "python",
   "nbconvert_exporter": "python",
   "pygments_lexer": "ipython3",
   "version": "3.7.6"
  }
 },
 "nbformat": 4,
 "nbformat_minor": 4
}
