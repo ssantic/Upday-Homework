{
 "cells": [
  {
   "cell_type": "markdown",
   "metadata": {},
   "source": [
    "# Assignment Task for Data Scientists #"
   ]
  },
  {
   "cell_type": "markdown",
   "metadata": {},
   "source": [
    "## Introduction ##"
   ]
  },
  {
   "cell_type": "markdown",
   "metadata": {},
   "source": [
    "You are a Data Scientist working at upday, a news aggregator and recommender.\n",
    "\n",
    "The engineering team at upday is gathering on a regular basis articles from all the Web. In order to provide a proper filtering functionality in the app, the articles need to be categorized.\n",
    "\n",
    "You have at your disposal a pre-labelled dataset that maps different articles and their metadata to a specific category.\n",
    "\n",
    "It's up to you now to help the company providing a solution for automatically categorizing articles."
   ]
  },
  {
   "cell_type": "markdown",
   "metadata": {},
   "source": [
    "## Assignment ##"
   ]
  },
  {
   "cell_type": "markdown",
   "metadata": {},
   "source": [
    "The repository contains a dataset with some english articles and some information about them:\n",
    "\n",
    "* category\n",
    "* title\n",
    "* text\n",
    "* url\n",
    "\n",
    "The purpose of the task is to provide a classification model for the articles."
   ]
  },
  {
   "cell_type": "markdown",
   "metadata": {},
   "source": [
    "## Instructions ##"
   ]
  },
  {
   "cell_type": "markdown",
   "metadata": {},
   "source": [
    "You should make a pull request to this repository containing the solution. If you need to clarify any point of your solution, please include an explanation in the PR description.\n",
    "\n",
    "What we expect:\n",
    "\n",
    "* Explanation about the solution you adopted and the results from your data exploration\n",
    "* Documentation of the results of your model, including the metrics adopted and the final evaluation\n",
    "* The training and evaluation code\n",
    "\n",
    "The solution should just perform better than random, also we expect you to use model that is not just rules-based.\n",
    "\n",
    "How to present the documentation and the code is up to you, whether to provide one or more jupyter notebooks or via a different mean."
   ]
  },
  {
   "cell_type": "markdown",
   "metadata": {},
   "source": [
    "## Bonus ##"
   ]
  },
  {
   "cell_type": "markdown",
   "metadata": {},
   "source": [
    "Scripts to be run from the command line:\n",
    "\n",
    "* A script for training the dataset\n",
    "* A script for evaluating the dataset\n",
    "* A script to infer the category given an article"
   ]
  },
  {
   "cell_type": "markdown",
   "metadata": {},
   "source": [
    "<br>\n",
    "<br>\n",
    "<br>\n",
    "<br>\n",
    "<br>"
   ]
  },
  {
   "cell_type": "markdown",
   "metadata": {},
   "source": [
    "## Let's begin! ##"
   ]
  }
 ],
 "metadata": {
  "kernelspec": {
   "display_name": "Python 3",
   "language": "python",
   "name": "python3"
  },
  "language_info": {
   "codemirror_mode": {
    "name": "ipython",
    "version": 3
   },
   "file_extension": ".py",
   "mimetype": "text/x-python",
   "name": "python",
   "nbconvert_exporter": "python",
   "pygments_lexer": "ipython3",
   "version": "3.7.6"
  }
 },
 "nbformat": 4,
 "nbformat_minor": 4
}
